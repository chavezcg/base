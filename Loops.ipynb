{
  "nbformat": 4,
  "nbformat_minor": 0,
  "metadata": {
    "colab": {
      "provenance": [],
      "include_colab_link": true
    },
    "kernelspec": {
      "name": "python3",
      "display_name": "Python 3"
    },
    "language_info": {
      "name": "python"
    }
  },
  "cells": [
    {
      "cell_type": "markdown",
      "metadata": {
        "id": "view-in-github",
        "colab_type": "text"
      },
      "source": [
        "<a href=\"https://colab.research.google.com/github/chavezcg/base/blob/master/Loops.ipynb\" target=\"_parent\"><img src=\"https://colab.research.google.com/assets/colab-badge.svg\" alt=\"Open In Colab\"/></a>"
      ]
    },
    {
      "cell_type": "markdown",
      "source": [
        "## Python Loops\n",
        "In Python, we use 'loops' to perform a task multiple times.\n",
        "There are two types of loops: 'for' loops and while loops."
      ],
      "metadata": {
        "id": "qoe1snjujEga"
      }
    },
    {
      "cell_type": "markdown",
      "source": [
        "1. For Loops\n",
        "A for loop is used when we want to repeat an action a specific number of times. The general format is:"
      ],
      "metadata": {
        "id": "o8cYuX9fkZ0i"
      }
    },
    {
      "cell_type": "code",
      "source": [
        "for variable in sequence:\n",
        "    # code to execute\n"
      ],
      "metadata": {
        "id": "ZvXZaKrZj8Qd"
      },
      "execution_count": null,
      "outputs": []
    },
    {
      "cell_type": "code",
      "source": [
        "animals = ['cat', 'dog' , 'snake']\n",
        "\n",
        "for item in animals:\n",
        "  print(item)\n"
      ],
      "metadata": {
        "colab": {
          "base_uri": "https://localhost:8080/"
        },
        "id": "Qv1vJh3hkn3a",
        "outputId": "97ca4a8a-420a-43f5-dcd7-a284db7be77a"
      },
      "execution_count": null,
      "outputs": [
        {
          "output_type": "stream",
          "name": "stdout",
          "text": [
            "cat\n",
            "dog\n",
            "snake\n"
          ]
        }
      ]
    },
    {
      "cell_type": "code",
      "source": [
        "#Loop through a string\n",
        "for letter in 'Catherine':\n",
        "  print(letter)"
      ],
      "metadata": {
        "colab": {
          "base_uri": "https://localhost:8080/"
        },
        "id": "6i_DUj6LnMHM",
        "outputId": "6c3d3b2a-8510-45f3-f07c-037457409e0f"
      },
      "execution_count": null,
      "outputs": [
        {
          "output_type": "stream",
          "name": "stdout",
          "text": [
            "C\n",
            "a\n",
            "t\n",
            "h\n",
            "e\n",
            "r\n",
            "i\n",
            "n\n",
            "e\n"
          ]
        }
      ]
    },
    {
      "cell_type": "code",
      "source": [
        "#loop through a range of numbers from 1 through 10\n",
        "for number in range(1,11):\n",
        "  print(number)"
      ],
      "metadata": {
        "colab": {
          "base_uri": "https://localhost:8080/"
        },
        "id": "wXINMnoqnhQZ",
        "outputId": "e17363cf-7d5b-49a3-c95d-88ad880ca675"
      },
      "execution_count": null,
      "outputs": [
        {
          "output_type": "stream",
          "name": "stdout",
          "text": [
            "1\n",
            "2\n",
            "3\n",
            "4\n",
            "5\n",
            "6\n",
            "7\n",
            "8\n",
            "9\n",
            "10\n"
          ]
        }
      ]
    },
    {
      "cell_type": "markdown",
      "source": [
        "## Important Note: For Loops stop when they reach a limit (like length of a list or dictionary)"
      ],
      "metadata": {
        "id": "rp-rxBXrmyvN"
      }
    },
    {
      "cell_type": "markdown",
      "source": [
        "## 2. While Loops\n",
        "A while loop is used when we want to repeat an action as long as a condition is True. The general format is:"
      ],
      "metadata": {
        "id": "BIBLl_omoqof"
      }
    },
    {
      "cell_type": "code",
      "source": [
        "count = 0\n",
        "\n",
        "while count < 5: #<-- Condition\n",
        "  print(\"ahahaha\")\n",
        "  count = count + 1"
      ],
      "metadata": {
        "colab": {
          "base_uri": "https://localhost:8080/"
        },
        "id": "F4V0bCUOovK3",
        "outputId": "dfee0121-2ebe-4048-8d6a-d0daff5d5c39"
      },
      "execution_count": null,
      "outputs": [
        {
          "output_type": "stream",
          "name": "stdout",
          "text": [
            "ahahaha\n",
            "ahahaha\n",
            "ahahaha\n",
            "ahahaha\n",
            "ahahaha\n"
          ]
        }
      ]
    },
    {
      "cell_type": "markdown",
      "source": [
        "Example using Booleans"
      ],
      "metadata": {
        "id": "XNZ_2yVopmIO"
      }
    },
    {
      "cell_type": "code",
      "source": [
        "Running = True #<-- Condition\n",
        "\n",
        "while Running:\n",
        "  print(\"hahaha\")\n",
        "  Running = False"
      ],
      "metadata": {
        "colab": {
          "base_uri": "https://localhost:8080/"
        },
        "id": "js5MObD_pn_5",
        "outputId": "5578d10e-e00c-4cd5-b4a0-657158225d51"
      },
      "execution_count": null,
      "outputs": [
        {
          "output_type": "stream",
          "name": "stdout",
          "text": [
            "hahaha\n"
          ]
        }
      ]
    },
    {
      "cell_type": "markdown",
      "source": [
        "Mini Project to further understand the concept of loops"
      ],
      "metadata": {
        "id": "ggTDs3AEqP_Y"
      }
    },
    {
      "cell_type": "markdown",
      "source": [
        "Objective: You will be writing a program that counts from 1 to a number that the user selects."
      ],
      "metadata": {
        "id": "AD6Bk2suqXWV"
      }
    },
    {
      "cell_type": "code",
      "source": [
        "for number in range(1, 11):\n",
        "    print(number)\n"
      ],
      "metadata": {
        "colab": {
          "base_uri": "https://localhost:8080/"
        },
        "id": "fWAuIKXiqUr2",
        "outputId": "92b30913-6e96-4f32-9df1-a92f9d29fec8"
      },
      "execution_count": null,
      "outputs": [
        {
          "output_type": "stream",
          "name": "stdout",
          "text": [
            "1\n",
            "2\n",
            "3\n",
            "4\n",
            "5\n",
            "6\n",
            "7\n",
            "8\n",
            "9\n",
            "10\n"
          ]
        }
      ]
    },
    {
      "cell_type": "code",
      "source": [
        "choose = input(\"Enter a number to count to : \")\n",
        "for number in range(1, int(choose)):\n",
        "  print(number)"
      ],
      "metadata": {
        "id": "5G-fjcuZquEP",
        "colab": {
          "base_uri": "https://localhost:8080/"
        },
        "outputId": "36a0b806-73ef-4f1e-95eb-e1565f93910a"
      },
      "execution_count": null,
      "outputs": [
        {
          "output_type": "stream",
          "name": "stdout",
          "text": [
            "Enter a number to count to : 4\n",
            "1\n",
            "2\n",
            "3\n"
          ]
        }
      ]
    },
    {
      "cell_type": "markdown",
      "source": [
        "While loop test:"
      ],
      "metadata": {
        "id": "IsX9ZVVysW14"
      }
    },
    {
      "cell_type": "code",
      "source": [
        "choose = int(input(\"Enter a number to count to : \"))\n",
        "count = 1\n",
        "while count <= choose:\n",
        "  print(count)\n",
        "  count = count + 1\n"
      ],
      "metadata": {
        "colab": {
          "base_uri": "https://localhost:8080/"
        },
        "id": "FZABrg9PsbqP",
        "outputId": "09449921-b912-4818-d1f1-8538d5b69193"
      },
      "execution_count": null,
      "outputs": [
        {
          "output_type": "stream",
          "name": "stdout",
          "text": [
            "Enter a number to count to : 10\n",
            "1\n",
            "2\n",
            "3\n",
            "4\n",
            "5\n",
            "6\n",
            "7\n",
            "8\n",
            "9\n",
            "10\n"
          ]
        }
      ]
    }
  ]
}